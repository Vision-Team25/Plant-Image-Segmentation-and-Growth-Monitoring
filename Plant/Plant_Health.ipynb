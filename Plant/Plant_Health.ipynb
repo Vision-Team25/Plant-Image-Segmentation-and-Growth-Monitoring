{
 "cells": [
  {
   "cell_type": "code",
   "execution_count": 1,
   "id": "820621ce",
   "metadata": {},
   "outputs": [],
   "source": [
    "import cv2\n",
    "import numpy as np\n",
    "\n",
    "# Load plant image\n",
    "frame = cv2.imread('plant.jpg')\n",
    "frame = cv2.resize(frame, (750, 550))  # Resize for consistency\n",
    "\n",
    "# Convert image to HSV color space\n",
    "hsv = cv2.cvtColor(frame, cv2.COLOR_BGR2HSV)\n",
    "\n",
    "# Define color ranges\n",
    "# Healthy green color range\n",
    "lower_green = np.array([30, 40, 40])  \n",
    "upper_green = np.array([90, 255, 255])  \n",
    "\n",
    "# Unhealthy yellowish areas (chlorosis, nutrient deficiency)\n",
    "lower_yellow = np.array([20, 90, 90])  \n",
    "upper_yellow = np.array([35, 255, 255])  \n",
    "\n",
    "# Brownish areas (drying, disease)\n",
    "lower_brown = np.array([5, 50, 50])  \n",
    "upper_brown = np.array([20, 255, 200])  \n",
    "\n",
    "# Create masks to segment different regions\n",
    "mask_green = cv2.inRange(hsv, lower_green, upper_green)\n",
    "mask_yellow = cv2.inRange(hsv, lower_yellow, upper_yellow)\n",
    "mask_brown = cv2.inRange(hsv, lower_brown, upper_brown)\n",
    "\n",
    "# Count pixels in each category\n",
    "total_pixels = frame.shape[0] * frame.shape[1]\n",
    "green_pixels = cv2.countNonZero(mask_green)\n",
    "yellow_pixels = cv2.countNonZero(mask_yellow)\n",
    "brown_pixels = cv2.countNonZero(mask_brown)\n",
    "\n",
    "# Calculate affected percentage\n",
    "green_percentage = (green_pixels / total_pixels) * 100\n",
    "yellow_percentage = (yellow_pixels / total_pixels) * 100\n",
    "brown_percentage = (brown_pixels / total_pixels) * 100\n",
    "\n",
    "# Create result image by combining masks\n",
    "result = frame.copy()\n",
    "result[np.where(mask_yellow > 0)] = [0, 255, 255]  # Highlight yellow areas\n",
    "result[np.where(mask_brown > 0)] = [0, 165, 255]  # Highlight brown areas\n",
    "\n",
    "# Display plant health status\n",
    "status_text = f\"Healthy: {green_percentage:.2f}% | Yellow: {yellow_percentage:.2f}% | Brown: {brown_percentage:.2f}%\"\n",
    "cv2.putText(result, status_text, (20, 30), cv2.FONT_HERSHEY_SIMPLEX, 0.7, (255, 255, 255), 2)\n",
    "\n",
    "# Show results\n",
    "cv2.imshow(\"Original Plant\", frame)\n",
    "cv2.imshow(\"Health Analysis\", result)\n",
    "cv2.imshow(\"Green Mask \", mask_green)\n",
    "cv2.imshow(\"Yellow Mask \", mask_yellow)\n",
    "cv2.imshow(\"Brown Mask \", mask_brown)\n",
    "\n",
    "cv2.waitKey(0)\n",
    "cv2.destroyAllWindows()"
   ]
  },
  {
   "cell_type": "code",
   "execution_count": null,
   "id": "b64049f6",
   "metadata": {},
   "outputs": [],
   "source": []
  },
  {
   "cell_type": "code",
   "execution_count": null,
   "id": "5eec5d17",
   "metadata": {},
   "outputs": [],
   "source": []
  }
 ],
 "metadata": {
  "kernelspec": {
   "display_name": "Python 3 (ipykernel)",
   "language": "python",
   "name": "python3"
  },
  "language_info": {
   "codemirror_mode": {
    "name": "ipython",
    "version": 3
   },
   "file_extension": ".py",
   "mimetype": "text/x-python",
   "name": "python",
   "nbconvert_exporter": "python",
   "pygments_lexer": "ipython3",
   "version": "3.7.1"
  }
 },
 "nbformat": 4,
 "nbformat_minor": 5
}
