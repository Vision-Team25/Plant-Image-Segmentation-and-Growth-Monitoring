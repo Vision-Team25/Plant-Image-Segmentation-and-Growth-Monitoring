{
 "cells": [
  {
   "cell_type": "code",
   "execution_count": 7,
   "id": "05e68881",
   "metadata": {},
   "outputs": [
    {
     "ename": "SyntaxError",
     "evalue": "invalid syntax (4018823196.py, line 41)",
     "output_type": "error",
     "traceback": [
      "\u001b[1;36m  File \u001b[1;32m\"C:\\Users\\gitec\\AppData\\Local\\Temp\\ipykernel_21512\\4018823196.py\"\u001b[1;36m, line \u001b[1;32m41\u001b[0m\n\u001b[1;33m    print(\"Leaf count: \"{leaf_count})\u001b[0m\n\u001b[1;37m                        ^\u001b[0m\n\u001b[1;31mSyntaxError\u001b[0m\u001b[1;31m:\u001b[0m invalid syntax\n"
     ]
    }
   ],
   "source": [
    "import cv2\n",
    "import numpy as np\n",
    "\n",
    "# Function to count the leaves\n",
    "def count_leaves(image_path):\n",
    "    # Read the image\n",
    "    frame = cv2.imread(image_path)\n",
    "    \n",
    "    # Resize the image for consistent display\n",
    "    frame = cv2.resize(frame, (650, 350))\n",
    "    \n",
    "    # Convert the image to grayscale\n",
    "    gray = cv2.cvtColor(frame, cv2.COLOR_BGR2GRAY)\n",
    "    \n",
    "    # Apply GaussianBlur to reduce noise and improve contour detection\n",
    "    blurred = cv2.GaussianBlur(gray, (5, 5), 0)\n",
    "    \n",
    "    # Threshold the image to create a binary image (black and white)\n",
    "    _, thresh = cv2.threshold(blurred, 120, 255, cv2.THRESH_BINARY_INV)  # You can adjust the threshold value\n",
    "    \n",
    "    # Find contours (leaf edges) in the binary image\n",
    "    contours, _ = cv2.findContours(thresh, cv2.RETR_EXTERNAL, cv2.CHAIN_APPROX_SIMPLE)\n",
    "    \n",
    "    # Filter out small contours that are likely noise\n",
    "    min_contour_area = 500  # Minimum area for a contour to be considered as a leaf\n",
    "    leaf_count = 0\n",
    "    \n",
    "    for contour in contours:\n",
    "        if cv2.contourArea(contour) > min_contour_area:\n",
    "            leaf_count += 1\n",
    "    \n",
    "    return leaf_count\n",
    "\n",
    "# Path to the plant image\n",
    "image_path = 'plant.jpg'\n",
    "\n",
    "# Call the function to get the leaf count\n",
    "leaf_count = count_leaves(image_path)\n",
    "\n",
    "# Display the result\n",
    "print(\"Leaf count: \"{leaf_count})\n"
   ]
  },
  {
   "cell_type": "code",
   "execution_count": null,
   "id": "160e218a",
   "metadata": {},
   "outputs": [],
   "source": []
  }
 ],
 "metadata": {
  "kernelspec": {
   "display_name": "Python 3 (ipykernel)",
   "language": "python",
   "name": "python3"
  },
  "language_info": {
   "codemirror_mode": {
    "name": "ipython",
    "version": 3
   },
   "file_extension": ".py",
   "mimetype": "text/x-python",
   "name": "python",
   "nbconvert_exporter": "python",
   "pygments_lexer": "ipython3",
   "version": "3.7.1"
  }
 },
 "nbformat": 4,
 "nbformat_minor": 5
}
